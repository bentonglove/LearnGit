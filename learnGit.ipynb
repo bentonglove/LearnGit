{
 "cells": [
  {
   "cell_type": "markdown",
   "metadata": {},
   "source": [
    "## 開始\n",
    "<https://www.liaoxuefeng.com/wiki/0013739516305929606dd18361248578c67b8067c8c017b000/0013743256916071d599b3aed534aaab22a0db6c4e07fd0000>\n",
    "\n",
    "### 設定你的Git\n",
    "在每一次的 Git commit (提交，我們稍後會提到) 都會記錄作者的訊息像是 name 及 email ，因此我們使用下面的指令來設定：\n",
    "\n",
    "git config --global user.name \"usistlab\"\n",
    "\n",
    "git config --global user.email \"stlab.usi@gmail.com\""
   ]
  },
  {
   "cell_type": "code",
   "execution_count": 8,
   "metadata": {
    "scrolled": false
   },
   "outputs": [
    {
     "name": "stdout",
     "output_type": "stream",
     "text": [
      "user.name=usistlab\n",
      "user.email=stlab.usi@gmail.com\n",
      "core.repositoryformatversion=0\n",
      "core.filemode=true\n",
      "core.bare=false\n",
      "core.logallrefupdates=true\n",
      "[user]\n",
      "\tname = usistlab\n",
      "\temail = stlab.usi@gmail.com\n"
     ]
    }
   ],
   "source": [
    "git config --list\n",
    "cat ~/.gitconfig"
   ]
  },
  {
   "cell_type": "markdown",
   "metadata": {},
   "source": [
    "### 建立工作目錄"
   ]
  },
  {
   "cell_type": "code",
   "execution_count": 1,
   "metadata": {
    "scrolled": true
   },
   "outputs": [
    {
     "name": "stdout",
     "output_type": "stream",
     "text": [
      "/home/stlab/workspace/learnGit\n",
      "總計 4\n",
      "-rw-r--r-- 1 stlab stlab 795  9月  2 20:12 learnGit.ipynb\n"
     ]
    }
   ],
   "source": [
    "cd ~/workspace/learnGit\n",
    "pwd\n",
    "ls -l"
   ]
  },
  {
   "cell_type": "markdown",
   "metadata": {},
   "source": [
    "### 通過git init命令把這個目錄變成Git可以管理的倉庫"
   ]
  },
  {
   "cell_type": "code",
   "execution_count": 2,
   "metadata": {},
   "outputs": [
    {
     "name": "stdout",
     "output_type": "stream",
     "text": [
      "Initialized empty Git repository in /home/stlab/workspace/learnGit/.git/\n"
     ]
    }
   ],
   "source": [
    "git init"
   ]
  },
  {
   "cell_type": "code",
   "execution_count": 4,
   "metadata": {
    "scrolled": true
   },
   "outputs": [
    {
     "name": "stdout",
     "output_type": "stream",
     "text": [
      "總計 20\n",
      "drwxr-xr-x 4 stlab stlab 4096  9月  2 20:17 \u001b[0m\u001b[01;34m.\u001b[0m\n",
      "drwxr-xr-x 5 stlab stlab 4096  9月  2 20:06 \u001b[01;34m..\u001b[0m\n",
      "drwxr-xr-x 7 stlab stlab 4096  9月  2 20:17 \u001b[01;34m.git\u001b[0m\n",
      "drwxr-xr-x 2 stlab stlab 4096  9月  2 20:13 \u001b[01;34m.ipynb_checkpoints\u001b[0m\n",
      "-rw-r--r-- 1 stlab stlab 1086  9月  2 20:17 learnGit.ipynb\n"
     ]
    }
   ],
   "source": [
    "ls -al"
   ]
  },
  {
   "cell_type": "markdown",
   "metadata": {},
   "source": [
    "### 編寫一個readme.txt文件，內容如下：\n",
    "\n",
    "Git is a version control system.\n",
    "Git is free software.\n",
    "\n",
    "#### 第一步，用命令 *git add*，把文件添加到倉庫："
   ]
  },
  {
   "cell_type": "code",
   "execution_count": 5,
   "metadata": {
    "scrolled": true
   },
   "outputs": [
    {
     "name": "stdout",
     "output_type": "stream",
     "text": [
      "learnGit.ipynb  readme.txt\n"
     ]
    }
   ],
   "source": [
    "ls\n",
    "git add readme.txt"
   ]
  },
  {
   "cell_type": "markdown",
   "metadata": {},
   "source": [
    "#### 第二步，用命令 *git commit* ，把文件提交到倉庫："
   ]
  },
  {
   "cell_type": "code",
   "execution_count": 6,
   "metadata": {},
   "outputs": [
    {
     "name": "stdout",
     "output_type": "stream",
     "text": [
      "[master (root-commit) 76c6d54] write a readme file\n",
      " 1 file changed, 2 insertions(+)\n",
      " create mode 100644 readme.txt\n"
     ]
    }
   ],
   "source": [
    "git commit -m \"write a readme file\""
   ]
  },
  {
   "cell_type": "markdown",
   "metadata": {},
   "source": [
    "### 小結\n",
    "現在總結一下今天學的兩點內容：\n",
    "\n",
    "* 初始化一個Git倉庫，使用git init命令。\n",
    "\n",
    "* 添加文件到Git倉庫，分兩步：\n",
    "\n",
    "> 使用命令git add <file>，注意，可反覆多次使用，添加多個文件；\n",
    "    \n",
    "> 使用命令git commit -m <message>，完成。"
   ]
  },
  {
   "cell_type": "markdown",
   "metadata": {},
   "source": [
    "## 時光機穿梭\n",
    "<https://www.liaoxuefeng.com/wiki/0013739516305929606dd18361248578c67b8067c8c017b000/0013743858312764dca7ad6d0754f76aa562e3789478044000>\n",
    "\n",
    "繼續修改readme.txt文件"
   ]
  },
  {
   "cell_type": "code",
   "execution_count": 9,
   "metadata": {
    "scrolled": true
   },
   "outputs": [
    {
     "name": "stdout",
     "output_type": "stream",
     "text": [
      "On branch master\n",
      "Changes not staged for commit:\n",
      "  (use \"git add <file>...\" to update what will be committed)\n",
      "  (use \"git checkout -- <file>...\" to discard changes in working directory)\n",
      "\n",
      "\t\u001b[31mmodified:   readme.txt\u001b[m\n",
      "\n",
      "Untracked files:\n",
      "  (use \"git add <file>...\" to include in what will be committed)\n",
      "\n",
      "\t\u001b[31m.ipynb_checkpoints/\u001b[m\n",
      "\t\u001b[31mlearnGit.ipynb\u001b[m\n",
      "\n",
      "no changes added to commit (use \"git add\" and/or \"git commit -a\")\n"
     ]
    }
   ],
   "source": [
    "git status"
   ]
  },
  {
   "cell_type": "code",
   "execution_count": 11,
   "metadata": {
    "scrolled": true
   },
   "outputs": [
    {
     "name": "stdout",
     "output_type": "stream",
     "text": [
      "\u001b[1mdiff --git a/readme.txt b/readme.txt\u001b[m\n",
      "\u001b[1mindex 4c95930..9247db6 100644\u001b[m\n",
      "\u001b[1m--- a/readme.txt\u001b[m\n",
      "\u001b[1m+++ b/readme.txt\u001b[m\n",
      "\u001b[36m@@ -1,2 +1,2 @@\u001b[m\n",
      "\u001b[31m-Git is a version control system. \u001b[m\n",
      "\u001b[32m+\u001b[m\u001b[32mGit is a distributed version control system.\u001b[m\n",
      " Git is free software.\u001b[m\n"
     ]
    }
   ],
   "source": [
    "git diff readme.txt"
   ]
  },
  {
   "cell_type": "code",
   "execution_count": 12,
   "metadata": {
    "scrolled": true
   },
   "outputs": [
    {
     "name": "stdout",
     "output_type": "stream",
     "text": [
      "On branch master\n",
      "Changes to be committed:\n",
      "  (use \"git reset HEAD <file>...\" to unstage)\n",
      "\n",
      "\t\u001b[32mmodified:   readme.txt\u001b[m\n",
      "\n",
      "Untracked files:\n",
      "  (use \"git add <file>...\" to include in what will be committed)\n",
      "\n",
      "\t\u001b[31m.ipynb_checkpoints/\u001b[m\n",
      "\t\u001b[31mlearnGit.ipynb\u001b[m\n",
      "\n"
     ]
    }
   ],
   "source": [
    "git add readme.txt\n",
    "git status"
   ]
  },
  {
   "cell_type": "code",
   "execution_count": 13,
   "metadata": {
    "scrolled": true
   },
   "outputs": [
    {
     "name": "stdout",
     "output_type": "stream",
     "text": [
      "[master 8ddec29] add distributed\n",
      " 1 file changed, 1 insertion(+), 1 deletion(-)\n"
     ]
    }
   ],
   "source": [
    "git commit -m \"add distributed\""
   ]
  },
  {
   "cell_type": "code",
   "execution_count": 14,
   "metadata": {
    "scrolled": true
   },
   "outputs": [
    {
     "name": "stdout",
     "output_type": "stream",
     "text": [
      "On branch master\n",
      "Untracked files:\n",
      "  (use \"git add <file>...\" to include in what will be committed)\n",
      "\n",
      "\t\u001b[31m.ipynb_checkpoints/\u001b[m\n",
      "\t\u001b[31mlearnGit.ipynb\u001b[m\n",
      "\n",
      "nothing added to commit but untracked files present (use \"git add\" to track)\n"
     ]
    }
   ],
   "source": [
    "git status"
   ]
  },
  {
   "cell_type": "code",
   "execution_count": 15,
   "metadata": {
    "scrolled": false
   },
   "outputs": [
    {
     "name": "stdout",
     "output_type": "stream",
     "text": [
      "\u001b[33mcommit 785d0256885aa2f79e3f6f1b42801e1a99d53dbb\u001b[m\u001b[33m (\u001b[m\u001b[1;36mHEAD -> \u001b[m\u001b[1;32mmaster\u001b[m\u001b[33m)\u001b[m\n",
      "Author: usistlab <stlab.usi@gmail.com>\n",
      "Date:   Sun Sep 2 22:25:03 2018 +0800\n",
      "\n",
      "    append GRL\n",
      "\n",
      "\u001b[33mcommit 8ddec29ab6387e47490a2ec83287d9c7364753cd\u001b[m\n",
      "Author: usistlab <stlab.usi@gmail.com>\n",
      "Date:   Sun Sep 2 22:20:50 2018 +0800\n",
      "\n",
      "    add distributed\n",
      "\n",
      "\u001b[33mcommit 76c6d5462f70094ee3c0cccf10360200e88f2c51\u001b[m\n",
      "Author: usistlab <stlab.usi@gmail.com>\n",
      "Date:   Sun Sep 2 20:33:14 2018 +0800\n",
      "\n",
      "    write a readme file\n"
     ]
    }
   ],
   "source": [
    "git log"
   ]
  },
  {
   "cell_type": "code",
   "execution_count": 16,
   "metadata": {},
   "outputs": [
    {
     "name": "stdout",
     "output_type": "stream",
     "text": [
      "HEAD is now at 8ddec29 add distributed\n"
     ]
    }
   ],
   "source": [
    "git reset --hard HEAD^"
   ]
  },
  {
   "cell_type": "code",
   "execution_count": 18,
   "metadata": {},
   "outputs": [
    {
     "name": "stdout",
     "output_type": "stream",
     "text": [
      "HEAD is now at 785d025 append GRL\n"
     ]
    }
   ],
   "source": [
    "git reset --hard 785d0256"
   ]
  },
  {
   "cell_type": "code",
   "execution_count": 20,
   "metadata": {
    "scrolled": true
   },
   "outputs": [
    {
     "name": "stdout",
     "output_type": "stream",
     "text": [
      "Git is a distributed version control system.\n",
      "Git is free software distributed under the GPL.\n"
     ]
    }
   ],
   "source": [
    "cat readme.txt"
   ]
  },
  {
   "cell_type": "code",
   "execution_count": 21,
   "metadata": {
    "scrolled": true
   },
   "outputs": [
    {
     "name": "stdout",
     "output_type": "stream",
     "text": [
      "\u001b[33m785d025\u001b[m\u001b[33m (\u001b[m\u001b[1;36mHEAD -> \u001b[m\u001b[1;32mmaster\u001b[m\u001b[33m)\u001b[m HEAD@{0}: reset: moving to 785d0256\n",
      "\u001b[33m785d025\u001b[m\u001b[33m (\u001b[m\u001b[1;36mHEAD -> \u001b[m\u001b[1;32mmaster\u001b[m\u001b[33m)\u001b[m HEAD@{1}: reset: moving to 785d0256\n",
      "\u001b[33m8ddec29\u001b[m HEAD@{2}: reset: moving to HEAD^\n",
      "\u001b[33m785d025\u001b[m\u001b[33m (\u001b[m\u001b[1;36mHEAD -> \u001b[m\u001b[1;32mmaster\u001b[m\u001b[33m)\u001b[m HEAD@{3}: commit: append GRL\n",
      "\u001b[33m8ddec29\u001b[m HEAD@{4}: commit: add distributed\n",
      "\u001b[33m76c6d54\u001b[m HEAD@{5}: commit (initial): write a readme file\n"
     ]
    }
   ],
   "source": [
    "git reflog"
   ]
  },
  {
   "cell_type": "markdown",
   "metadata": {},
   "source": [
    "![GIT](https://cdn.liaoxuefeng.com/cdn/files/attachments/001384907702917346729e9afbf4127b6dfbae9207af016000/0)"
   ]
  },
  {
   "cell_type": "markdown",
   "metadata": {},
   "source": [
    "### Git 中忽略某些文件或者文件夾\n",
    "<http://www.chengxusheji.com/archives/121.html>"
   ]
  },
  {
   "cell_type": "markdown",
   "metadata": {},
   "source": [
    "## 忽略文件夾寫法\n",
    "\n",
    "經測試發現，若要忽略一個文件夾下的部分文件夾，應該一個一個的標示。可能有更好的方法。\n",
    "若test下有多個文件和文件夾。若要ignore某些文件夾，應該這個配置.gitignore文件。若test下有test1，test2,test3文件。要track test3，則.gitignore文件為：\n",
    "test/test1\n",
    "test/test2\n",
    "!test/test3\n",
    "若為：\n",
    "test/\n",
    "!test/test3 ，則不能track test3。\n",
    "Git 中的文件忽略\n",
    "1. 共享式忽略新建 .gitignore 文件，放在工程目錄任意位置即可。.gitignore 文件可以忽略自己。忽略的文件，只針對未跟蹤文件有效，對已加入版本庫的文件無效。\n",
    "2. 獨享式忽略針對具體版本庫 ：.git/info/exclude針對本地全局：  git config --global core.excludefile ~/.gitignore\n",
    "忽略的語法規則：\n",
    "\n",
    "(\\#)表示註釋\n",
    "(\\*)  表示任意多個字符; \n",
    "(\\?) 代表一個字符;\n",
    " ([abc]) 代表可選字符範圍\n",
    " \n",
    "如果名稱最前面是路徑分隔符 (/) ，表示忽略的該文件在此目錄下。\n",
    "\n",
    "如果名稱的最後面是 (/) ，表示忽略整個目錄，但同名文件不忽略。\n",
    "\n",
    "通過在名稱前面加 (!) ，代表不忽略。\n",
    "\n",
    "例子如下：\n",
    "\n",
    "\\# 這行是註釋\n",
    "\n",
    "*.a                   \\# 忽略所有 .a 偉擴展名的文件\n",
    "\n",
    "!lib.a                \\# 但是 lib.a 不忽略，即時之前設置了忽略所有的 .a\n",
    "\n",
    "/TODO                 \\# 只忽略此目錄下 TODO 文件，子目錄的 TODO 不忽略 \n",
    "\n",
    "build/                \\# 忽略所有的 build/ 目錄下文件\n",
    "\n",
    "doc/*.txt             \\# 忽略如 doc/notes.txt, 但是不忽略如 doc/server/arch.txt"
   ]
  },
  {
   "cell_type": "code",
   "execution_count": null,
   "metadata": {},
   "outputs": [],
   "source": []
  }
 ],
 "metadata": {
  "kernelspec": {
   "display_name": "Bash",
   "language": "bash",
   "name": "bash"
  },
  "language_info": {
   "codemirror_mode": "shell",
   "file_extension": ".sh",
   "mimetype": "text/x-sh",
   "name": "bash"
  }
 },
 "nbformat": 4,
 "nbformat_minor": 2
}
